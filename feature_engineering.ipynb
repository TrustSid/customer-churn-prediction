{
  "nbformat": 4,
  "nbformat_minor": 0,
  "metadata": {
    "colab": {
      "provenance": []
    },
    "kernelspec": {
      "name": "python3",
      "display_name": "Python 3"
    },
    "language_info": {
      "name": "python"
    }
  },
  "cells": [
    {
      "cell_type": "code",
      "execution_count": 3,
      "metadata": {
        "colab": {
          "base_uri": "https://localhost:8080/",
          "height": 342
        },
        "id": "iijZfVkWOAgF",
        "outputId": "5b663fbf-0e88-40e1-c43a-edfd444b55f1"
      },
      "outputs": [
        {
          "output_type": "execute_result",
          "data": {
            "text/plain": [
              "                                 id                     channel_sales  \\\n",
              "0  24011ae4ebbe3035111d65fa7c15bc57  foosdfpfkusacimwkcsosbicdxkicaua   \n",
              "1  d29c2c54acc38ff3c0614d0a653813dd                           MISSING   \n",
              "2  764c75f661154dac3a6c254cd082ea7d  foosdfpfkusacimwkcsosbicdxkicaua   \n",
              "3  bba03439a292a1e166f80264c16191cb  lmkebamcaaclubfxadlmueccxoimlema   \n",
              "4  149d57cf92fc41cf94415803a877cb4b                           MISSING   \n",
              "\n",
              "   cons_12m  cons_gas_12m  cons_last_month  date_activ    date_end  \\\n",
              "0         0         54946                0  2013-06-15  2016-06-15   \n",
              "1      4660             0                0  2009-08-21  2016-08-30   \n",
              "2       544             0                0  2010-04-16  2016-04-16   \n",
              "3      1584             0                0  2010-03-30  2016-03-30   \n",
              "4      4425             0              526  2010-01-13  2016-03-07   \n",
              "\n",
              "  date_modif_prod date_renewal  forecast_cons_12m  ...  \\\n",
              "0      2015-11-01   2015-06-23               0.00  ...   \n",
              "1      2009-08-21   2015-08-31             189.95  ...   \n",
              "2      2010-04-16   2015-04-17              47.96  ...   \n",
              "3      2010-03-30   2015-03-31             240.04  ...   \n",
              "4      2010-01-13   2015-03-09             445.75  ...   \n",
              "\n",
              "   var_6m_price_off_peak_var  var_6m_price_peak_var  \\\n",
              "0                   0.000131           4.100838e-05   \n",
              "1                   0.000003           1.217891e-03   \n",
              "2                   0.000004           9.450150e-08   \n",
              "3                   0.000003           0.000000e+00   \n",
              "4                   0.000011           2.896760e-06   \n",
              "\n",
              "   var_6m_price_mid_peak_var  var_6m_price_off_peak_fix  \\\n",
              "0               9.084737e-04                   2.086294   \n",
              "1               0.000000e+00                   0.009482   \n",
              "2               0.000000e+00                   0.000000   \n",
              "3               0.000000e+00                   0.000000   \n",
              "4               4.860000e-10                   0.000000   \n",
              "\n",
              "   var_6m_price_peak_fix  var_6m_price_mid_peak_fix var_6m_price_off_peak  \\\n",
              "0              99.530517                  44.235794              2.086425   \n",
              "1               0.000000                   0.000000              0.009485   \n",
              "2               0.000000                   0.000000              0.000004   \n",
              "3               0.000000                   0.000000              0.000003   \n",
              "4               0.000000                   0.000000              0.000011   \n",
              "\n",
              "   var_6m_price_peak  var_6m_price_mid_peak  churn  \n",
              "0       9.953056e+01           4.423670e+01      1  \n",
              "1       1.217891e-03           0.000000e+00      0  \n",
              "2       9.450150e-08           0.000000e+00      0  \n",
              "3       0.000000e+00           0.000000e+00      0  \n",
              "4       2.896760e-06           4.860000e-10      0  \n",
              "\n",
              "[5 rows x 44 columns]"
            ],
            "text/html": [
              "\n",
              "  <div id=\"df-ef40ba08-e44b-4249-b3ef-793bcf047cbf\" class=\"colab-df-container\">\n",
              "    <div>\n",
              "<style scoped>\n",
              "    .dataframe tbody tr th:only-of-type {\n",
              "        vertical-align: middle;\n",
              "    }\n",
              "\n",
              "    .dataframe tbody tr th {\n",
              "        vertical-align: top;\n",
              "    }\n",
              "\n",
              "    .dataframe thead th {\n",
              "        text-align: right;\n",
              "    }\n",
              "</style>\n",
              "<table border=\"1\" class=\"dataframe\">\n",
              "  <thead>\n",
              "    <tr style=\"text-align: right;\">\n",
              "      <th></th>\n",
              "      <th>id</th>\n",
              "      <th>channel_sales</th>\n",
              "      <th>cons_12m</th>\n",
              "      <th>cons_gas_12m</th>\n",
              "      <th>cons_last_month</th>\n",
              "      <th>date_activ</th>\n",
              "      <th>date_end</th>\n",
              "      <th>date_modif_prod</th>\n",
              "      <th>date_renewal</th>\n",
              "      <th>forecast_cons_12m</th>\n",
              "      <th>...</th>\n",
              "      <th>var_6m_price_off_peak_var</th>\n",
              "      <th>var_6m_price_peak_var</th>\n",
              "      <th>var_6m_price_mid_peak_var</th>\n",
              "      <th>var_6m_price_off_peak_fix</th>\n",
              "      <th>var_6m_price_peak_fix</th>\n",
              "      <th>var_6m_price_mid_peak_fix</th>\n",
              "      <th>var_6m_price_off_peak</th>\n",
              "      <th>var_6m_price_peak</th>\n",
              "      <th>var_6m_price_mid_peak</th>\n",
              "      <th>churn</th>\n",
              "    </tr>\n",
              "  </thead>\n",
              "  <tbody>\n",
              "    <tr>\n",
              "      <th>0</th>\n",
              "      <td>24011ae4ebbe3035111d65fa7c15bc57</td>\n",
              "      <td>foosdfpfkusacimwkcsosbicdxkicaua</td>\n",
              "      <td>0</td>\n",
              "      <td>54946</td>\n",
              "      <td>0</td>\n",
              "      <td>2013-06-15</td>\n",
              "      <td>2016-06-15</td>\n",
              "      <td>2015-11-01</td>\n",
              "      <td>2015-06-23</td>\n",
              "      <td>0.00</td>\n",
              "      <td>...</td>\n",
              "      <td>0.000131</td>\n",
              "      <td>4.100838e-05</td>\n",
              "      <td>9.084737e-04</td>\n",
              "      <td>2.086294</td>\n",
              "      <td>99.530517</td>\n",
              "      <td>44.235794</td>\n",
              "      <td>2.086425</td>\n",
              "      <td>9.953056e+01</td>\n",
              "      <td>4.423670e+01</td>\n",
              "      <td>1</td>\n",
              "    </tr>\n",
              "    <tr>\n",
              "      <th>1</th>\n",
              "      <td>d29c2c54acc38ff3c0614d0a653813dd</td>\n",
              "      <td>MISSING</td>\n",
              "      <td>4660</td>\n",
              "      <td>0</td>\n",
              "      <td>0</td>\n",
              "      <td>2009-08-21</td>\n",
              "      <td>2016-08-30</td>\n",
              "      <td>2009-08-21</td>\n",
              "      <td>2015-08-31</td>\n",
              "      <td>189.95</td>\n",
              "      <td>...</td>\n",
              "      <td>0.000003</td>\n",
              "      <td>1.217891e-03</td>\n",
              "      <td>0.000000e+00</td>\n",
              "      <td>0.009482</td>\n",
              "      <td>0.000000</td>\n",
              "      <td>0.000000</td>\n",
              "      <td>0.009485</td>\n",
              "      <td>1.217891e-03</td>\n",
              "      <td>0.000000e+00</td>\n",
              "      <td>0</td>\n",
              "    </tr>\n",
              "    <tr>\n",
              "      <th>2</th>\n",
              "      <td>764c75f661154dac3a6c254cd082ea7d</td>\n",
              "      <td>foosdfpfkusacimwkcsosbicdxkicaua</td>\n",
              "      <td>544</td>\n",
              "      <td>0</td>\n",
              "      <td>0</td>\n",
              "      <td>2010-04-16</td>\n",
              "      <td>2016-04-16</td>\n",
              "      <td>2010-04-16</td>\n",
              "      <td>2015-04-17</td>\n",
              "      <td>47.96</td>\n",
              "      <td>...</td>\n",
              "      <td>0.000004</td>\n",
              "      <td>9.450150e-08</td>\n",
              "      <td>0.000000e+00</td>\n",
              "      <td>0.000000</td>\n",
              "      <td>0.000000</td>\n",
              "      <td>0.000000</td>\n",
              "      <td>0.000004</td>\n",
              "      <td>9.450150e-08</td>\n",
              "      <td>0.000000e+00</td>\n",
              "      <td>0</td>\n",
              "    </tr>\n",
              "    <tr>\n",
              "      <th>3</th>\n",
              "      <td>bba03439a292a1e166f80264c16191cb</td>\n",
              "      <td>lmkebamcaaclubfxadlmueccxoimlema</td>\n",
              "      <td>1584</td>\n",
              "      <td>0</td>\n",
              "      <td>0</td>\n",
              "      <td>2010-03-30</td>\n",
              "      <td>2016-03-30</td>\n",
              "      <td>2010-03-30</td>\n",
              "      <td>2015-03-31</td>\n",
              "      <td>240.04</td>\n",
              "      <td>...</td>\n",
              "      <td>0.000003</td>\n",
              "      <td>0.000000e+00</td>\n",
              "      <td>0.000000e+00</td>\n",
              "      <td>0.000000</td>\n",
              "      <td>0.000000</td>\n",
              "      <td>0.000000</td>\n",
              "      <td>0.000003</td>\n",
              "      <td>0.000000e+00</td>\n",
              "      <td>0.000000e+00</td>\n",
              "      <td>0</td>\n",
              "    </tr>\n",
              "    <tr>\n",
              "      <th>4</th>\n",
              "      <td>149d57cf92fc41cf94415803a877cb4b</td>\n",
              "      <td>MISSING</td>\n",
              "      <td>4425</td>\n",
              "      <td>0</td>\n",
              "      <td>526</td>\n",
              "      <td>2010-01-13</td>\n",
              "      <td>2016-03-07</td>\n",
              "      <td>2010-01-13</td>\n",
              "      <td>2015-03-09</td>\n",
              "      <td>445.75</td>\n",
              "      <td>...</td>\n",
              "      <td>0.000011</td>\n",
              "      <td>2.896760e-06</td>\n",
              "      <td>4.860000e-10</td>\n",
              "      <td>0.000000</td>\n",
              "      <td>0.000000</td>\n",
              "      <td>0.000000</td>\n",
              "      <td>0.000011</td>\n",
              "      <td>2.896760e-06</td>\n",
              "      <td>4.860000e-10</td>\n",
              "      <td>0</td>\n",
              "    </tr>\n",
              "  </tbody>\n",
              "</table>\n",
              "<p>5 rows × 44 columns</p>\n",
              "</div>\n",
              "    <div class=\"colab-df-buttons\">\n",
              "\n",
              "  <div class=\"colab-df-container\">\n",
              "    <button class=\"colab-df-convert\" onclick=\"convertToInteractive('df-ef40ba08-e44b-4249-b3ef-793bcf047cbf')\"\n",
              "            title=\"Convert this dataframe to an interactive table.\"\n",
              "            style=\"display:none;\">\n",
              "\n",
              "  <svg xmlns=\"http://www.w3.org/2000/svg\" height=\"24px\" viewBox=\"0 -960 960 960\">\n",
              "    <path d=\"M120-120v-720h720v720H120Zm60-500h600v-160H180v160Zm220 220h160v-160H400v160Zm0 220h160v-160H400v160ZM180-400h160v-160H180v160Zm440 0h160v-160H620v160ZM180-180h160v-160H180v160Zm440 0h160v-160H620v160Z\"/>\n",
              "  </svg>\n",
              "    </button>\n",
              "\n",
              "  <style>\n",
              "    .colab-df-container {\n",
              "      display:flex;\n",
              "      gap: 12px;\n",
              "    }\n",
              "\n",
              "    .colab-df-convert {\n",
              "      background-color: #E8F0FE;\n",
              "      border: none;\n",
              "      border-radius: 50%;\n",
              "      cursor: pointer;\n",
              "      display: none;\n",
              "      fill: #1967D2;\n",
              "      height: 32px;\n",
              "      padding: 0 0 0 0;\n",
              "      width: 32px;\n",
              "    }\n",
              "\n",
              "    .colab-df-convert:hover {\n",
              "      background-color: #E2EBFA;\n",
              "      box-shadow: 0px 1px 2px rgba(60, 64, 67, 0.3), 0px 1px 3px 1px rgba(60, 64, 67, 0.15);\n",
              "      fill: #174EA6;\n",
              "    }\n",
              "\n",
              "    .colab-df-buttons div {\n",
              "      margin-bottom: 4px;\n",
              "    }\n",
              "\n",
              "    [theme=dark] .colab-df-convert {\n",
              "      background-color: #3B4455;\n",
              "      fill: #D2E3FC;\n",
              "    }\n",
              "\n",
              "    [theme=dark] .colab-df-convert:hover {\n",
              "      background-color: #434B5C;\n",
              "      box-shadow: 0px 1px 3px 1px rgba(0, 0, 0, 0.15);\n",
              "      filter: drop-shadow(0px 1px 2px rgba(0, 0, 0, 0.3));\n",
              "      fill: #FFFFFF;\n",
              "    }\n",
              "  </style>\n",
              "\n",
              "    <script>\n",
              "      const buttonEl =\n",
              "        document.querySelector('#df-ef40ba08-e44b-4249-b3ef-793bcf047cbf button.colab-df-convert');\n",
              "      buttonEl.style.display =\n",
              "        google.colab.kernel.accessAllowed ? 'block' : 'none';\n",
              "\n",
              "      async function convertToInteractive(key) {\n",
              "        const element = document.querySelector('#df-ef40ba08-e44b-4249-b3ef-793bcf047cbf');\n",
              "        const dataTable =\n",
              "          await google.colab.kernel.invokeFunction('convertToInteractive',\n",
              "                                                    [key], {});\n",
              "        if (!dataTable) return;\n",
              "\n",
              "        const docLinkHtml = 'Like what you see? Visit the ' +\n",
              "          '<a target=\"_blank\" href=https://colab.research.google.com/notebooks/data_table.ipynb>data table notebook</a>'\n",
              "          + ' to learn more about interactive tables.';\n",
              "        element.innerHTML = '';\n",
              "        dataTable['output_type'] = 'display_data';\n",
              "        await google.colab.output.renderOutput(dataTable, element);\n",
              "        const docLink = document.createElement('div');\n",
              "        docLink.innerHTML = docLinkHtml;\n",
              "        element.appendChild(docLink);\n",
              "      }\n",
              "    </script>\n",
              "  </div>\n",
              "\n",
              "\n",
              "    <div id=\"df-9def59be-5fc8-4c77-adb9-6d9bd22fc4bb\">\n",
              "      <button class=\"colab-df-quickchart\" onclick=\"quickchart('df-9def59be-5fc8-4c77-adb9-6d9bd22fc4bb')\"\n",
              "                title=\"Suggest charts\"\n",
              "                style=\"display:none;\">\n",
              "\n",
              "<svg xmlns=\"http://www.w3.org/2000/svg\" height=\"24px\"viewBox=\"0 0 24 24\"\n",
              "     width=\"24px\">\n",
              "    <g>\n",
              "        <path d=\"M19 3H5c-1.1 0-2 .9-2 2v14c0 1.1.9 2 2 2h14c1.1 0 2-.9 2-2V5c0-1.1-.9-2-2-2zM9 17H7v-7h2v7zm4 0h-2V7h2v10zm4 0h-2v-4h2v4z\"/>\n",
              "    </g>\n",
              "</svg>\n",
              "      </button>\n",
              "\n",
              "<style>\n",
              "  .colab-df-quickchart {\n",
              "      --bg-color: #E8F0FE;\n",
              "      --fill-color: #1967D2;\n",
              "      --hover-bg-color: #E2EBFA;\n",
              "      --hover-fill-color: #174EA6;\n",
              "      --disabled-fill-color: #AAA;\n",
              "      --disabled-bg-color: #DDD;\n",
              "  }\n",
              "\n",
              "  [theme=dark] .colab-df-quickchart {\n",
              "      --bg-color: #3B4455;\n",
              "      --fill-color: #D2E3FC;\n",
              "      --hover-bg-color: #434B5C;\n",
              "      --hover-fill-color: #FFFFFF;\n",
              "      --disabled-bg-color: #3B4455;\n",
              "      --disabled-fill-color: #666;\n",
              "  }\n",
              "\n",
              "  .colab-df-quickchart {\n",
              "    background-color: var(--bg-color);\n",
              "    border: none;\n",
              "    border-radius: 50%;\n",
              "    cursor: pointer;\n",
              "    display: none;\n",
              "    fill: var(--fill-color);\n",
              "    height: 32px;\n",
              "    padding: 0;\n",
              "    width: 32px;\n",
              "  }\n",
              "\n",
              "  .colab-df-quickchart:hover {\n",
              "    background-color: var(--hover-bg-color);\n",
              "    box-shadow: 0 1px 2px rgba(60, 64, 67, 0.3), 0 1px 3px 1px rgba(60, 64, 67, 0.15);\n",
              "    fill: var(--button-hover-fill-color);\n",
              "  }\n",
              "\n",
              "  .colab-df-quickchart-complete:disabled,\n",
              "  .colab-df-quickchart-complete:disabled:hover {\n",
              "    background-color: var(--disabled-bg-color);\n",
              "    fill: var(--disabled-fill-color);\n",
              "    box-shadow: none;\n",
              "  }\n",
              "\n",
              "  .colab-df-spinner {\n",
              "    border: 2px solid var(--fill-color);\n",
              "    border-color: transparent;\n",
              "    border-bottom-color: var(--fill-color);\n",
              "    animation:\n",
              "      spin 1s steps(1) infinite;\n",
              "  }\n",
              "\n",
              "  @keyframes spin {\n",
              "    0% {\n",
              "      border-color: transparent;\n",
              "      border-bottom-color: var(--fill-color);\n",
              "      border-left-color: var(--fill-color);\n",
              "    }\n",
              "    20% {\n",
              "      border-color: transparent;\n",
              "      border-left-color: var(--fill-color);\n",
              "      border-top-color: var(--fill-color);\n",
              "    }\n",
              "    30% {\n",
              "      border-color: transparent;\n",
              "      border-left-color: var(--fill-color);\n",
              "      border-top-color: var(--fill-color);\n",
              "      border-right-color: var(--fill-color);\n",
              "    }\n",
              "    40% {\n",
              "      border-color: transparent;\n",
              "      border-right-color: var(--fill-color);\n",
              "      border-top-color: var(--fill-color);\n",
              "    }\n",
              "    60% {\n",
              "      border-color: transparent;\n",
              "      border-right-color: var(--fill-color);\n",
              "    }\n",
              "    80% {\n",
              "      border-color: transparent;\n",
              "      border-right-color: var(--fill-color);\n",
              "      border-bottom-color: var(--fill-color);\n",
              "    }\n",
              "    90% {\n",
              "      border-color: transparent;\n",
              "      border-bottom-color: var(--fill-color);\n",
              "    }\n",
              "  }\n",
              "</style>\n",
              "\n",
              "      <script>\n",
              "        async function quickchart(key) {\n",
              "          const quickchartButtonEl =\n",
              "            document.querySelector('#' + key + ' button');\n",
              "          quickchartButtonEl.disabled = true;  // To prevent multiple clicks.\n",
              "          quickchartButtonEl.classList.add('colab-df-spinner');\n",
              "          try {\n",
              "            const charts = await google.colab.kernel.invokeFunction(\n",
              "                'suggestCharts', [key], {});\n",
              "          } catch (error) {\n",
              "            console.error('Error during call to suggestCharts:', error);\n",
              "          }\n",
              "          quickchartButtonEl.classList.remove('colab-df-spinner');\n",
              "          quickchartButtonEl.classList.add('colab-df-quickchart-complete');\n",
              "        }\n",
              "        (() => {\n",
              "          let quickchartButtonEl =\n",
              "            document.querySelector('#df-9def59be-5fc8-4c77-adb9-6d9bd22fc4bb button');\n",
              "          quickchartButtonEl.style.display =\n",
              "            google.colab.kernel.accessAllowed ? 'block' : 'none';\n",
              "        })();\n",
              "      </script>\n",
              "    </div>\n",
              "\n",
              "    </div>\n",
              "  </div>\n"
            ],
            "application/vnd.google.colaboratory.intrinsic+json": {
              "type": "dataframe",
              "variable_name": "df"
            }
          },
          "metadata": {},
          "execution_count": 3
        }
      ],
      "source": [
        "import pandas as pd\n",
        "\n",
        "# Change the path to your file\n",
        "df = pd.read_csv(\"clean_data_after_eda.csv\")   # e.g., \"C:/Users/You/Downloads/my_file.csv\"\n",
        "df.head()"
      ]
    },
    {
      "cell_type": "code",
      "source": [
        "# === Rename columns in client_df ===\n",
        "df.rename(columns={\n",
        "    \"id\": \"client_id\",\n",
        "    \"activity_new\": \"activity_type\",\n",
        "    \"channel_sales\": \"sales_channel_code\",\n",
        "    \"cons_12m\": \"electricityconsumption_12m\",\n",
        "    \"cons_gas_12m\": \"gas_consumption_12m\",\n",
        "    \"cons_last_month\": \"electricityconsumption_last_month\",\n",
        "    \"date_activ\": \"contract_start_date\",\n",
        "    \"date_end\": \"contract_end_date\",\n",
        "    \"date_modif_prod\": \"last_product_modification_date\",\n",
        "    \"date_renewal\": \"next_renewal_date\",\n",
        "    \"forecast_cons_12m\": \"electricitypredicted_consumption_12m\",\n",
        "    \"forecast_cons_year\": \"electricitypredicted_consumption_calenderyear\",\n",
        "    \"forecast_discount_energy\": \"predicted_value_current_discount\",\n",
        "    \"forecast_meter_rent_12m\": \"predicted_meter_rental_12m\",\n",
        "    \"forecast_price_energy_off_peak\": \"predicted_energy_price_1stperiod\",\n",
        "    \"forecast_price_energy_peak\": \"predicted_energy_price_2ndperiod\",\n",
        "    \"forecast_price_pow_off_peak\": \"predicted_power_price_1stperiod\",\n",
        "    \"has_gas\": \"clienthas_gas_connection\",\n",
        "    \"imp_cons\": \"billed_consumption\",\n",
        "    \"margin_gross_pow_ele\": \"gross_margin_powersubscription\",\n",
        "    \"margin_net_pow_ele\": \"net_margin_powersubscription\",\n",
        "    \"nb_prod_act\": \"active_products_count\",\n",
        "    \"net_margin\": \"total_net_margin\",\n",
        "    \"num_years_antig\": \"years_as_customer\",\n",
        "    \"origin_up\": \"electricity_campaign_code_subscribed\",\n",
        "    \"pow_max\": \"subscribed_power\",\n",
        "    \"churn\": \"is_churned\"\n",
        "}, inplace=True)\n"
      ],
      "metadata": {
        "id": "ZKxRx6Z_OiHP"
      },
      "execution_count": 4,
      "outputs": []
    },
    {
      "cell_type": "code",
      "source": [
        "print(\"data shape:\", df.shape)"
      ],
      "metadata": {
        "colab": {
          "base_uri": "https://localhost:8080/"
        },
        "id": "rcaBuEycRbuI",
        "outputId": "ada159ed-32d6-4661-9eb2-b12bf49c8b5b"
      },
      "execution_count": 5,
      "outputs": [
        {
          "output_type": "stream",
          "name": "stdout",
          "text": [
            "data shape: (14606, 44)\n"
          ]
        }
      ]
    },
    {
      "cell_type": "code",
      "source": [
        "print(\"\\nData Types:\\n\", df.dtypes)"
      ],
      "metadata": {
        "colab": {
          "base_uri": "https://localhost:8080/"
        },
        "id": "nwizGYXzSWCY",
        "outputId": "42ea568d-706a-4406-bd0f-20ef7f21dd5b"
      },
      "execution_count": 6,
      "outputs": [
        {
          "output_type": "stream",
          "name": "stdout",
          "text": [
            "\n",
            "Data Types:\n",
            " client_id                                         object\n",
            "sales_channel_code                                object\n",
            "electricityconsumption_12m                         int64\n",
            "gas_consumption_12m                                int64\n",
            "electricityconsumption_last_month                  int64\n",
            "contract_start_date                               object\n",
            "contract_end_date                                 object\n",
            "last_product_modification_date                    object\n",
            "next_renewal_date                                 object\n",
            "electricitypredicted_consumption_12m             float64\n",
            "electricitypredicted_consumption_calenderyear      int64\n",
            "predicted_value_current_discount                 float64\n",
            "predicted_meter_rental_12m                       float64\n",
            "predicted_energy_price_1stperiod                 float64\n",
            "predicted_energy_price_2ndperiod                 float64\n",
            "predicted_power_price_1stperiod                  float64\n",
            "clienthas_gas_connection                          object\n",
            "billed_consumption                               float64\n",
            "gross_margin_powersubscription                   float64\n",
            "net_margin_powersubscription                     float64\n",
            "active_products_count                              int64\n",
            "total_net_margin                                 float64\n",
            "years_as_customer                                  int64\n",
            "electricity_campaign_code_subscribed              object\n",
            "subscribed_power                                 float64\n",
            "var_year_price_off_peak_var                      float64\n",
            "var_year_price_peak_var                          float64\n",
            "var_year_price_mid_peak_var                      float64\n",
            "var_year_price_off_peak_fix                      float64\n",
            "var_year_price_peak_fix                          float64\n",
            "var_year_price_mid_peak_fix                      float64\n",
            "var_year_price_off_peak                          float64\n",
            "var_year_price_peak                              float64\n",
            "var_year_price_mid_peak                          float64\n",
            "var_6m_price_off_peak_var                        float64\n",
            "var_6m_price_peak_var                            float64\n",
            "var_6m_price_mid_peak_var                        float64\n",
            "var_6m_price_off_peak_fix                        float64\n",
            "var_6m_price_peak_fix                            float64\n",
            "var_6m_price_mid_peak_fix                        float64\n",
            "var_6m_price_off_peak                            float64\n",
            "var_6m_price_peak                                float64\n",
            "var_6m_price_mid_peak                            float64\n",
            "is_churned                                         int64\n",
            "dtype: object\n"
          ]
        }
      ]
    },
    {
      "cell_type": "code",
      "source": [
        "print(\"\\nMissing Values in Dataset:\\n\", df.isnull().sum().sort_values(ascending=False))"
      ],
      "metadata": {
        "colab": {
          "base_uri": "https://localhost:8080/"
        },
        "id": "qVNO0176SbnU",
        "outputId": "578f3cec-d3f4-4e5d-83d0-10a17b4e23cd"
      },
      "execution_count": 7,
      "outputs": [
        {
          "output_type": "stream",
          "name": "stdout",
          "text": [
            "\n",
            "Missing Values in Dataset:\n",
            " client_id                                        0\n",
            "sales_channel_code                               0\n",
            "electricityconsumption_12m                       0\n",
            "gas_consumption_12m                              0\n",
            "electricityconsumption_last_month                0\n",
            "contract_start_date                              0\n",
            "contract_end_date                                0\n",
            "last_product_modification_date                   0\n",
            "next_renewal_date                                0\n",
            "electricitypredicted_consumption_12m             0\n",
            "electricitypredicted_consumption_calenderyear    0\n",
            "predicted_value_current_discount                 0\n",
            "predicted_meter_rental_12m                       0\n",
            "predicted_energy_price_1stperiod                 0\n",
            "predicted_energy_price_2ndperiod                 0\n",
            "predicted_power_price_1stperiod                  0\n",
            "clienthas_gas_connection                         0\n",
            "billed_consumption                               0\n",
            "gross_margin_powersubscription                   0\n",
            "net_margin_powersubscription                     0\n",
            "active_products_count                            0\n",
            "total_net_margin                                 0\n",
            "years_as_customer                                0\n",
            "electricity_campaign_code_subscribed             0\n",
            "subscribed_power                                 0\n",
            "var_year_price_off_peak_var                      0\n",
            "var_year_price_peak_var                          0\n",
            "var_year_price_mid_peak_var                      0\n",
            "var_year_price_off_peak_fix                      0\n",
            "var_year_price_peak_fix                          0\n",
            "var_year_price_mid_peak_fix                      0\n",
            "var_year_price_off_peak                          0\n",
            "var_year_price_peak                              0\n",
            "var_year_price_mid_peak                          0\n",
            "var_6m_price_off_peak_var                        0\n",
            "var_6m_price_peak_var                            0\n",
            "var_6m_price_mid_peak_var                        0\n",
            "var_6m_price_off_peak_fix                        0\n",
            "var_6m_price_peak_fix                            0\n",
            "var_6m_price_mid_peak_fix                        0\n",
            "var_6m_price_off_peak                            0\n",
            "var_6m_price_peak                                0\n",
            "var_6m_price_mid_peak                            0\n",
            "is_churned                                       0\n",
            "dtype: int64\n"
          ]
        }
      ]
    },
    {
      "cell_type": "code",
      "source": [
        "print(\"\\nChurn Value Counts:\\n\", df['is_churned'].value_counts())"
      ],
      "metadata": {
        "colab": {
          "base_uri": "https://localhost:8080/"
        },
        "id": "3oArsP2sSdcs",
        "outputId": "a4b2e918-df79-4505-96dd-0119ae439703"
      },
      "execution_count": 8,
      "outputs": [
        {
          "output_type": "stream",
          "name": "stdout",
          "text": [
            "\n",
            "Churn Value Counts:\n",
            " is_churned\n",
            "0    13187\n",
            "1     1419\n",
            "Name: count, dtype: int64\n"
          ]
        }
      ]
    },
    {
      "cell_type": "code",
      "source": [
        "cols_to_drop = [\n",
        "    \"predicted_value_current_discount\",\n",
        "    \"predicted_meter_rental_12m\",\n",
        "    \"predicted_energy_price_1stperiod\",\n",
        "    \"predicted_energy_price_2ndperiod\",\n",
        "    \"predicted_power_price_1stperiod\",\n",
        "]\n",
        "\n",
        "df = df.drop(columns=cols_to_drop, errors=\"ignore\")\n"
      ],
      "metadata": {
        "id": "Y6BAZuq-WIzb"
      },
      "execution_count": 9,
      "outputs": []
    },
    {
      "cell_type": "code",
      "source": [
        "df[\"sales_channel_code\"].nunique()         # unique categories\n"
      ],
      "metadata": {
        "colab": {
          "base_uri": "https://localhost:8080/"
        },
        "id": "JwlSWQ14XB4L",
        "outputId": "9f44c100-40b0-42f0-9e77-c3bf6cf52f7c"
      },
      "execution_count": 10,
      "outputs": [
        {
          "output_type": "execute_result",
          "data": {
            "text/plain": [
              "8"
            ]
          },
          "metadata": {},
          "execution_count": 10
        }
      ]
    },
    {
      "cell_type": "code",
      "source": [
        "col = \"sales_channel_code\"\n",
        "\n",
        "# standardize then convert literal 'MISSING' to NA\n",
        "canon = df[col].astype(\"string\").str.strip()\n",
        "df[col] = canon.mask(canon.str.upper() == \"MISSING\")  # becomes <NA> (pandas NA)\n",
        "\n",
        "# sanity check\n",
        "print(\"NaNs after conversion:\", df[col].isna().sum())\n",
        "print(\"Distinct non-null categories:\", df[col].dropna().nunique())"
      ],
      "metadata": {
        "colab": {
          "base_uri": "https://localhost:8080/"
        },
        "id": "wWUq5USxZtsU",
        "outputId": "3a0b351b-330e-4cce-ca74-a29b55fa9b47"
      },
      "execution_count": 11,
      "outputs": [
        {
          "output_type": "stream",
          "name": "stdout",
          "text": [
            "NaNs after conversion: 3725\n",
            "Distinct non-null categories: 7\n"
          ]
        }
      ]
    },
    {
      "cell_type": "code",
      "source": [
        "# 1) Build mapping on the *current* DataFrame (non-null only)\n",
        "col = \"sales_channel_code\"\n",
        "codes = sorted(df[col].dropna().unique().tolist())           # alphabetical for determinism\n",
        "mapping = {code: f\"channel_{i+1}\" for i, code in enumerate(codes)}\n",
        "\n",
        "# 2) Apply (create a new clean column; NaNs stay NaN)\n",
        "df[\"sales_channel_clean\"] = df[col].map(mapping)\n",
        "\n",
        "print(\"Mapping used:\", mapping)\n",
        "print(df[\"sales_channel_clean\"].value_counts(dropna=False))\n"
      ],
      "metadata": {
        "colab": {
          "base_uri": "https://localhost:8080/"
        },
        "id": "2SWHmwGvgmez",
        "outputId": "8fc8ac29-108c-4e82-cad6-e1ed45582761"
      },
      "execution_count": 12,
      "outputs": [
        {
          "output_type": "stream",
          "name": "stdout",
          "text": [
            "Mapping used: {'epumfxlbckeskwekxbiuasklxalciiuu': 'channel_1', 'ewpakwlliwisiwduibdlfmalxowmwpci': 'channel_2', 'fixdbufsefwooaasfcxdxadsiekoceaa': 'channel_3', 'foosdfpfkusacimwkcsosbicdxkicaua': 'channel_4', 'lmkebamcaaclubfxadlmueccxoimlema': 'channel_5', 'sddiedcslfslkckwlfkdpoeeailfpeds': 'channel_6', 'usilxuppasemubllopkaafesmlibmsdf': 'channel_7'}\n",
            "sales_channel_clean\n",
            "channel_4    6754\n",
            "NaN          3725\n",
            "channel_5    1843\n",
            "channel_7    1375\n",
            "channel_2     893\n",
            "channel_6      11\n",
            "channel_1       3\n",
            "channel_3       2\n",
            "Name: count, dtype: int64\n"
          ]
        }
      ]
    },
    {
      "cell_type": "code",
      "source": [
        "# Choose a frequency threshold (tune as you like)\n",
        "MIN_COUNT = 50\n",
        "\n",
        "col = \"sales_channel_clean\"   # this is your mapped column (NaNs kept as NaN)\n",
        "vc = df[col].value_counts()\n",
        "keep = set(vc[vc >= MIN_COUNT].index)\n",
        "\n",
        "df[\"sales_channel_grouped\"] = df[col].where(df[col].isin(keep), other=\"other\")\n",
        "\n",
        "print(df[\"sales_channel_grouped\"].value_counts(dropna=False))"
      ],
      "metadata": {
        "colab": {
          "base_uri": "https://localhost:8080/"
        },
        "id": "JJV18MIgg5B_",
        "outputId": "cfbfad9c-ce71-4ddc-df62-1150a9f3fbc8"
      },
      "execution_count": 13,
      "outputs": [
        {
          "output_type": "stream",
          "name": "stdout",
          "text": [
            "sales_channel_grouped\n",
            "channel_4    6754\n",
            "other        3741\n",
            "channel_5    1843\n",
            "channel_7    1375\n",
            "channel_2     893\n",
            "Name: count, dtype: int64\n"
          ]
        }
      ]
    },
    {
      "cell_type": "code",
      "source": [
        "cols_to_drop = [\"sales_channel_clean\", \"client_id\", \"sales_channel_code\"]\n",
        "df = df.drop(columns=cols_to_drop, errors=\"ignore\")"
      ],
      "metadata": {
        "id": "yXuKzgrahmBE"
      },
      "execution_count": 14,
      "outputs": []
    },
    {
      "cell_type": "code",
      "source": [
        "col = \"clienthas_gas_connection\"\n",
        "\n",
        "df[col] = (\n",
        "    df[col]\n",
        "      .astype(\"string\").str.strip().str.lower()\n",
        "      .map({\"t\": 1, \"f\": 0})\n",
        "      .astype(\"Int8\")   # nullable integer: keeps NaN if something didn't match\n",
        ")\n"
      ],
      "metadata": {
        "id": "fBtUR6qzhogP"
      },
      "execution_count": 15,
      "outputs": []
    },
    {
      "cell_type": "code",
      "source": [
        "df = df.rename(columns={\"sales_channel_grouped\": \"sales_channel_code\"})"
      ],
      "metadata": {
        "id": "UERLgBLsiMnw"
      },
      "execution_count": 16,
      "outputs": []
    },
    {
      "cell_type": "code",
      "source": [
        "cols_to_drop = [\"electricitypredicted_consumption_calenderyear\", \"electricitypredicted_consumption_12m\"]\n",
        "df = df.drop(columns=cols_to_drop, errors=\"ignore\")"
      ],
      "metadata": {
        "id": "7pzDmrhqmT-o"
      },
      "execution_count": 17,
      "outputs": []
    },
    {
      "cell_type": "code",
      "source": [
        "# Convert the renamed date columns to datetime objects\n",
        "date_cols = ['contract_start_date', 'contract_end_date', 'last_product_modification_date', 'next_renewal_date']\n",
        "for col in date_cols:\n",
        "    df[col] = pd.to_datetime(df[col], errors='coerce', format='%Y-%m-%d')\n",
        "\n",
        "# Get the latest date in the dataset to use as a reference date\n",
        "reference_date = df[date_cols].max().max()\n",
        "\n",
        "# Calculate new features from the renamed date columns\n",
        "df['tenure_days'] = (df['contract_end_date'] - df['contract_start_date']).dt.days\n",
        "df['days_since_last_mod'] = (reference_date - df['last_product_modification_date']).dt.days\n",
        "df['renewal_to_end_duration_days'] = (df['contract_end_date'] - df['next_renewal_date']).dt.days\n"
      ],
      "metadata": {
        "id": "wXzDLn2prZx9"
      },
      "execution_count": 18,
      "outputs": []
    },
    {
      "cell_type": "code",
      "source": [
        "cols_to_drop = [\n",
        "    \"contract_start_date\",\n",
        "    \"contract_end_date\",\n",
        "    \"last_product_modification_date\",\n",
        "    \"next_renewal_date\"\n",
        "]\n",
        "\n",
        "df = df.drop(columns=cols_to_drop, errors=\"ignore\")\n",
        "\n",
        "print(\"Remaining columns:\", df.columns.tolist())"
      ],
      "metadata": {
        "colab": {
          "base_uri": "https://localhost:8080/"
        },
        "id": "mCtBnSEkrazs",
        "outputId": "e2fe52ef-aa7d-458b-bece-ad1ad4b8c402"
      },
      "execution_count": 19,
      "outputs": [
        {
          "output_type": "stream",
          "name": "stdout",
          "text": [
            "Remaining columns: ['electricityconsumption_12m', 'gas_consumption_12m', 'electricityconsumption_last_month', 'clienthas_gas_connection', 'billed_consumption', 'gross_margin_powersubscription', 'net_margin_powersubscription', 'active_products_count', 'total_net_margin', 'years_as_customer', 'electricity_campaign_code_subscribed', 'subscribed_power', 'var_year_price_off_peak_var', 'var_year_price_peak_var', 'var_year_price_mid_peak_var', 'var_year_price_off_peak_fix', 'var_year_price_peak_fix', 'var_year_price_mid_peak_fix', 'var_year_price_off_peak', 'var_year_price_peak', 'var_year_price_mid_peak', 'var_6m_price_off_peak_var', 'var_6m_price_peak_var', 'var_6m_price_mid_peak_var', 'var_6m_price_off_peak_fix', 'var_6m_price_peak_fix', 'var_6m_price_mid_peak_fix', 'var_6m_price_off_peak', 'var_6m_price_peak', 'var_6m_price_mid_peak', 'is_churned', 'sales_channel_code', 'tenure_days', 'days_since_last_mod', 'renewal_to_end_duration_days']\n"
          ]
        }
      ]
    },
    {
      "cell_type": "code",
      "source": [
        "from sklearn.preprocessing import LabelEncoder\n",
        "\n",
        "le = LabelEncoder()\n",
        "df[\"sales_channel_code_encoded\"] = le.fit_transform(df[\"sales_channel_code\"].astype(str))\n",
        "\n",
        "print(\"Classes:\", le.classes_)"
      ],
      "metadata": {
        "colab": {
          "base_uri": "https://localhost:8080/"
        },
        "id": "VKS_SHBIAnsM",
        "outputId": "c81f6a8c-42fc-493a-c797-9138c29fe1f0"
      },
      "execution_count": 21,
      "outputs": [
        {
          "output_type": "stream",
          "name": "stdout",
          "text": [
            "Classes: ['channel_2' 'channel_4' 'channel_5' 'channel_7' 'other']\n"
          ]
        }
      ]
    },
    {
      "cell_type": "code",
      "source": [
        "df.head()"
      ],
      "metadata": {
        "id": "3p7oaCUNBSwj"
      },
      "execution_count": null,
      "outputs": []
    },
    {
      "cell_type": "code",
      "source": [
        "df = df.drop(columns=[\"sales_channel_code\"], errors=\"ignore\")"
      ],
      "metadata": {
        "id": "FwXFZ4Q_A6EZ"
      },
      "execution_count": 23,
      "outputs": []
    }
  ]
}